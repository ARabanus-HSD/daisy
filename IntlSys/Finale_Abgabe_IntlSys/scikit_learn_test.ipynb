{
 "cells": [
  {
   "cell_type": "code",
   "execution_count": 18,
   "metadata": {},
   "outputs": [],
   "source": [
    "import matplotlib.pyplot as plt\n",
    "import pandas as pd\n",
    "import numpy as np\n",
    "\n",
    "from sklearn import datasets, metrics, svm\n",
    "from sklearn.model_selection import train_test_split"
   ]
  },
  {
   "cell_type": "code",
   "execution_count": 8,
   "metadata": {},
   "outputs": [
    {
     "name": "stdout",
     "output_type": "stream",
     "text": [
      "610\n"
     ]
    }
   ],
   "source": [
    "data_dir = \"/home/arabanus/Desktop/intlsys_logs/\"\n",
    "m_1 = \"logfile_deo_dose_53mm.txt\"\n",
    "m_2 = \"logfile_dose_zweite_messung.txt\"\n",
    "m_3 = \"logfile_dose_dritte_messung.txt\"\n",
    "\n",
    "df_dose1 = pd.read_csv(data_dir + m_1, header=None)\n",
    "df_dose2 = pd.read_csv(data_dir + m_2, header=None)\n",
    "df_dose3 = pd.read_csv(data_dir + m_3, header=None)\n",
    "\n",
    "# print(df_dose1.T.shape[1])"
   ]
  },
  {
   "cell_type": "code",
   "execution_count": 27,
   "metadata": {},
   "outputs": [
    {
     "name": "stdout",
     "output_type": "stream",
     "text": [
      "[[5.051546 5.051546 5.051546 ... 5.034364 5.051546 5.034364]\n",
      " [5.051546 5.034364 5.034364 ... 5.051546 5.051546 5.051546]\n",
      " [5.051546 5.051546 5.051546 ... 5.051546 5.051546 5.034364]\n",
      " ...\n",
      " [5.670103 5.704467 5.704467 ... 4.725086 6.030928 6.013746]\n",
      " [5.72165  5.72165  5.704467 ... 6.030928 6.030928 5.704467]\n",
      " [5.72165  5.704467 5.687285 ... 6.030928 5.704467 5.704467]]\n",
      "(30, 61)\n"
     ]
    }
   ],
   "source": [
    "def reshape_measurement(df, num_rot=10):\n",
    "    \"\"\"\n",
    "    input pd df w/ shape: (1, n)\n",
    "    output: pd df w/ shape (num_rot, n/num_rot)\n",
    "    \"\"\"\n",
    "    all_entries = df.shape[1]\n",
    "    reshaped_df = df.values.reshape(num_rot, all_entries//num_rot)\n",
    "    return reshaped_df\n",
    "\n",
    "combined_df = np.concatenate([reshape_measurement(df_dose1.T),\n",
    "                              reshape_measurement(df_dose2.T),\n",
    "                              reshape_measurement(df_dose3.T)],\n",
    "                              axis=0)\n",
    "\n",
    "print(combined_df)\n",
    "print(combined_df.shape)"
   ]
  },
  {
   "cell_type": "code",
   "execution_count": null,
   "metadata": {},
   "outputs": [],
   "source": [
    "clf = svm.SVC(gamma=0.001)\n",
    "\n",
    "X_train, X_test, y_train, y_test = train_test_split(\n",
    "    combined_df, digits.target, test_size=0.5, shuffle=False\n",
    ") \n",
    "# was macht .target bei scikit learn\n",
    "\n",
    "# Learn the digits on the train subset\n",
    "clf.fit(X_train, y_train)\n",
    "\n",
    "# Predict the value of the digit on the test subset\n",
    "predicted = clf.predict(X_test)"
   ]
  }
 ],
 "metadata": {
  "kernelspec": {
   "display_name": ".venv",
   "language": "python",
   "name": "python3"
  },
  "language_info": {
   "codemirror_mode": {
    "name": "ipython",
    "version": 3
   },
   "file_extension": ".py",
   "mimetype": "text/x-python",
   "name": "python",
   "nbconvert_exporter": "python",
   "pygments_lexer": "ipython3",
   "version": "3.10.12"
  }
 },
 "nbformat": 4,
 "nbformat_minor": 2
}
