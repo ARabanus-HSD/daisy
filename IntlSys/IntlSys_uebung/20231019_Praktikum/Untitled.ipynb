{
 "cells": [
  {
   "cell_type": "code",
   "execution_count": 1,
   "id": "8baad235",
   "metadata": {},
   "outputs": [
    {
     "name": "stdout",
     "output_type": "stream",
     "text": [
      "       Area  Perimeter  Major_Axis_Length  Minor_Axis_Length  Convex_Area  \\\n",
      "0     56276    888.242           326.1485           220.2388        56831   \n",
      "1     76631   1068.146           417.1932           234.2289        77280   \n",
      "2     71623   1082.987           435.8328           211.0457        72663   \n",
      "3     66458    992.051           381.5638           222.5322        67118   \n",
      "4     66107    998.146           383.8883           220.4545        67117   \n",
      "...     ...        ...                ...                ...          ...   \n",
      "2495  79637   1224.710           533.1513           190.4367        80381   \n",
      "2496  69647   1084.318           462.9416           191.8210        70216   \n",
      "2497  87994   1210.314           507.2200           222.1872        88702   \n",
      "2498  80011   1182.947           501.9065           204.7531        80902   \n",
      "2499  84934   1159.933           462.8951           234.5597        85781   \n",
      "\n",
      "      Equiv_Diameter  Eccentricity  Solidity  Extent  Roundness  \\\n",
      "0           267.6805        0.7376    0.9902  0.7453     0.8963   \n",
      "1           312.3614        0.8275    0.9916  0.7151     0.8440   \n",
      "2           301.9822        0.8749    0.9857  0.7400     0.7674   \n",
      "3           290.8899        0.8123    0.9902  0.7396     0.8486   \n",
      "4           290.1207        0.8187    0.9850  0.6752     0.8338   \n",
      "...              ...           ...       ...     ...        ...   \n",
      "2495        318.4289        0.9340    0.9907  0.4888     0.6672   \n",
      "2496        297.7874        0.9101    0.9919  0.6002     0.7444   \n",
      "2497        334.7199        0.8990    0.9920  0.7643     0.7549   \n",
      "2498        319.1758        0.9130    0.9890  0.7374     0.7185   \n",
      "2499        328.8485        0.8621    0.9901  0.7360     0.7933   \n",
      "\n",
      "      Aspect_Ration  Compactness          Class  \n",
      "0            1.4809       0.8207     Çerçevelik  \n",
      "1            1.7811       0.7487     Çerçevelik  \n",
      "2            2.0651       0.6929     Çerçevelik  \n",
      "3            1.7146       0.7624     Çerçevelik  \n",
      "4            1.7413       0.7557     Çerçevelik  \n",
      "...             ...          ...            ...  \n",
      "2495         2.7996       0.5973  Ürgüp Sivrisi  \n",
      "2496         2.4134       0.6433  Ürgüp Sivrisi  \n",
      "2497         2.2828       0.6599  Ürgüp Sivrisi  \n",
      "2498         2.4513       0.6359  Ürgüp Sivrisi  \n",
      "2499         1.9735       0.7104  Ürgüp Sivrisi  \n",
      "\n",
      "[2500 rows x 13 columns]\n"
     ]
    }
   ],
   "source": [
    "import pandas as pd\n",
    "\n",
    "file = \"~/Documents/HSD/DAISY - Obsidian/IntlSys/IntlSys_uebung/20231019_Praktikum/Pumpkin_Seeds_Dataset.xlsx\"\n",
    "\n",
    "df = pd.read_excel(file)    \n",
    "\n",
    "print(df)"
   ]
  },
  {
   "cell_type": "code",
   "execution_count": null,
   "id": "b5586b78",
   "metadata": {},
   "outputs": [],
   "source": []
  }
 ],
 "metadata": {
  "kernelspec": {
   "display_name": "Python 3 (ipykernel)",
   "language": "python",
   "name": "python3"
  },
  "language_info": {
   "codemirror_mode": {
    "name": "ipython",
    "version": 3
   },
   "file_extension": ".py",
   "mimetype": "text/x-python",
   "name": "python",
   "nbconvert_exporter": "python",
   "pygments_lexer": "ipython3",
   "version": "3.11.5"
  }
 },
 "nbformat": 4,
 "nbformat_minor": 5
}
