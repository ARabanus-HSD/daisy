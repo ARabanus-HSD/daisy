{
 "cells": [
  {
   "cell_type": "markdown",
   "metadata": {},
   "source": [
    "# Numpy \n",
    "### wird benutzt um numerische Daten auszulesen\n",
    "\n",
    "erstmal ohne numpy:"
   ]
  },
  {
   "cell_type": "code",
   "execution_count": 2,
   "metadata": {},
   "outputs": [
    {
     "name": "stdout",
     "output_type": "stream",
     "text": [
      "[1, 4, 2, 0, 1, 4, 2, 2, 1]\n"
     ]
    }
   ],
   "source": [
    "umfrage_person_1 = [2, 1, 1, 4, 3, 5, 1, 3, 2]\n",
    "umfrage_person_2 = [1, 5, 3, 4, 2, 1, 3, 5, 1]\n",
    "\n",
    "# datentyp liste:\n",
    "# ziel delta zwischen den einträgen in der Liste\n",
    "\n",
    "umfrage_delta = []\n",
    "for i in range(len(umfrage_person_1)):\n",
    "    delta = abs(umfrage_person_1[i] - umfrage_person_2[i])\n",
    "    umfrage_delta.append(delta)\n",
    "    \n",
    "print(umfrage_delta)\n"
   ]
  },
  {
   "cell_type": "markdown",
   "metadata": {},
   "source": [
    "vergleichsbeispiel mit numpy:"
   ]
  },
  {
   "cell_type": "code",
   "execution_count": 11,
   "metadata": {},
   "outputs": [
    {
     "name": "stdout",
     "output_type": "stream",
     "text": [
      "[1 4 2 0 1 4 2 2 1]\n"
     ]
    }
   ],
   "source": [
    "import numpy as np\n",
    "\n",
    "umfrage_person_1_np = np.array([2, 1, 1, 4, 3, 5, 1, 3, 2])\n",
    "umfrage_person_2_np = np.array([1, 5, 3, 4, 2, 1, 3, 5, 1])\n",
    "\n",
    "umfrage_delta_np = umfrage_person_1_np - umfrage_person_2_np\n",
    "\n",
    "print(abs(umfrage_delta_np))\n",
    "\n"
   ]
  },
  {
   "cell_type": "markdown",
   "metadata": {},
   "source": [
    "mit numpy kann man easy mit arrays rechnen, ohne immer über die verschiedenen teile in einer liste zu iterrieren"
   ]
  },
  {
   "cell_type": "code",
   "execution_count": 15,
   "metadata": {},
   "outputs": [
    {
     "name": "stdout",
     "output_type": "stream",
     "text": [
      "[3.0e+00 6.4e+00 3.0e+00 6.3e+00 4.6e+00 2.0e+00 2.0e-03]\n",
      "[[1 2 3]\n",
      " [4 5 6]\n",
      " [7 8 9]]\n",
      "\n",
      "float64  -> datentyp\n",
      "2  -> wie viele dimensionen\n",
      "9  -> wie viele einträge\n",
      "(3, 3)  -> anordnung der einträge\n"
     ]
    }
   ],
   "source": [
    "a = np.array([3, 6.4, 3, 6.3, 4.6, 2, 0.002])\n",
    "b = np.array([[1, 2, 3], [4, 5, 6], [7, 8, 9]])\n",
    "# ein array kann ints, floats und listen beinhalten!\n",
    "print(a)\n",
    "print(b)\n",
    "print()\n",
    "print(a.dtype, \" -> datentyp\") # datentyp\n",
    "print(b.ndim, \" -> wie viele dimensionen\") # wie viele dimensionen \n",
    "print(b.size, \" -> wie viele einträge\") # wie viele einträge\n",
    "print(b.shape, \" -> anordnung der einträge\") # anordnung der einträge\n"
   ]
  },
  {
   "cell_type": "markdown",
   "metadata": {},
   "source": [
    "anders als eine liste (wo alles gemische rein kann), muss ein numpy array immer den gleichen datentyp beinhalten.\n",
    "wenn es ein float in einer liste von ints gibt werden alle ints zu float konvertiert.\n",
    "\n",
    "> [1, 2, 3.5]  ->  [1. 2. 3.5]\n",
    "\n"
   ]
  },
  {
   "cell_type": "code",
   "execution_count": 19,
   "metadata": {},
   "outputs": [
    {
     "name": "stdout",
     "output_type": "stream",
     "text": [
      "[4 5 6]\n",
      "gibt das erste 'element' des arrays aus.\n",
      "hier: die erste zeile\n",
      "\n",
      "1\n",
      "erstes element der ersten zeile\n"
     ]
    }
   ],
   "source": [
    "a = np.array([3, 6.4, 3, 6.3, 4.6, 2, 0.002])\n",
    "b = np.array([[1, 2, 3], [4, 5, 6], [7, 8, 9]])\n",
    "\n",
    "print(b[1])\n",
    "print(\"gibt das erste 'element' des arrays aus.\\nhier: die erste zeile\")\n",
    "print()\n",
    "print(b[0][0])\n",
    "print(\"erstes element der ersten zeile\")"
   ]
  },
  {
   "cell_type": "markdown",
   "metadata": {},
   "source": [
    "man kann ein listenelement über zwei varianten aufrufen:\n",
    "> b[i][j]\n",
    "> b[i, j]"
   ]
  },
  {
   "cell_type": "code",
   "execution_count": 22,
   "metadata": {},
   "outputs": [
    {
     "name": "stdout",
     "output_type": "stream",
     "text": [
      "[[1 2 3]\n",
      " [4 5 6]\n",
      " [7 8 9]] \n",
      "\n",
      "[[5 6]\n",
      " [8 9]] \n",
      "\n",
      "[[1]] \n",
      "\n",
      "[[1 2]\n",
      " [4 5]]\n"
     ]
    }
   ],
   "source": [
    "matrix = np.array(\n",
    "    [[1, 2, 3],\n",
    "     [4, 5, 6],\n",
    "     [7, 8, 9]]\n",
    ")\n",
    "print(matrix[:, :], '\\n')\n",
    "print(matrix[1:, 1:], '\\n')\n",
    "print(matrix[:1, :1], '\\n')\n",
    "print(matrix[:2, :2])"
   ]
  },
  {
   "cell_type": "markdown",
   "metadata": {},
   "source": [
    "man kann funky stuff mit arrays und numpy machen!"
   ]
  },
  {
   "cell_type": "code",
   "execution_count": 27,
   "metadata": {},
   "outputs": [
    {
     "name": "stdout",
     "output_type": "stream",
     "text": [
      "[[ True  True  True]\n",
      " [ True False False]\n",
      " [False False False]]\n",
      "[1 2 3 4]\n",
      "(array([0, 0, 0, 1]), array([0, 1, 2, 0]))\n",
      "\n",
      "[[False  True  True]\n",
      " [ True  True  True]\n",
      " [False False False]]\n",
      "\n",
      "[[ True False False]\n",
      " [False False False]\n",
      " [False  True  True]]\n"
     ]
    }
   ],
   "source": [
    "print(matrix < 5)\n",
    "\n",
    "mask = matrix < 5 # es wird eine maske erstellt\n",
    "print(matrix[mask]) # die maske wird angewendet, returnt dann nur die werte die in der maske true sind! \n",
    "\n",
    "# hier verliert man die info wo die einträge im array sind, deshalb:\n",
    "\n",
    "print(np.where(mask)) # returns positionen für True (array1 entspricht x-Koordinate, array2 entspricht y-Koordinate)\n",
    "\n",
    "print()\n",
    "\n",
    "mask_2 = (matrix >= 2) & (matrix < 7)\n",
    "mask_3 = (matrix < 2) | (matrix > 7)\n",
    "print(mask_2)\n",
    "print()\n",
    "print(mask_3)\n"
   ]
  },
  {
   "cell_type": "markdown",
   "metadata": {},
   "source": [
    "## Rechnen mit np.arrays\n",
    "\n",
    "rechnen mit zwei arrays geht nur wenn beide/alle arrays die selbe dimension haben"
   ]
  },
  {
   "cell_type": "code",
   "execution_count": 33,
   "metadata": {},
   "outputs": [
    {
     "name": "stdout",
     "output_type": "stream",
     "text": [
      "[20 25  5 15 30 15 25]\n",
      "[0.04 0.05 0.01 0.03 0.06 0.03 0.05]\n",
      "[-3 -2 -6 -4 -1 -4 -2]\n",
      "[ 1.8 -1.  -3.8  0.  -0.1  1.   3.4]\n"
     ]
    }
   ],
   "source": [
    "numbers = np.array([4, 5, 1, 3, 6, 3, 5])\n",
    "other_numbers = np.array([2.2, 6, 4.8, 3, 6.1, 2, 1.6])\n",
    "\n",
    "print(numbers * 5)\n",
    "print(numbers/100)\n",
    "print(numbers - 7)\n",
    "print(numbers - other_numbers)"
   ]
  },
  {
   "cell_type": "markdown",
   "metadata": {},
   "source": [
    "weitere operatoren:\n",
    "\n",
    "> data.max()\n",
    "\n",
    "> data.min()\n",
    "\n",
    "> data.sum()\n"
   ]
  },
  {
   "cell_type": "markdown",
   "metadata": {},
   "source": [
    "erstelle ein np array, es füllt ein array mit nullen"
   ]
  },
  {
   "cell_type": "code",
   "execution_count": 42,
   "metadata": {},
   "outputs": [
    {
     "name": "stdout",
     "output_type": "stream",
     "text": [
      "0.5051695734047644\n"
     ]
    }
   ],
   "source": [
    "data_zeros = np.zeros((7, 9))\n",
    "data_ones = np.ones((7, 9))\n",
    "\n",
    "# print(data_zeros)\n",
    "# print(data_ones)\n",
    "# print(data_zeros.shape)\n",
    "\n",
    "# mittelwert aus 10000 beliebigen zahlen\n",
    "data = np.random.random((100, 100))\n",
    "print(data.mean())\n"
   ]
  },
  {
   "cell_type": "code",
   "execution_count": 46,
   "metadata": {},
   "outputs": [
    {
     "name": "stdout",
     "output_type": "stream",
     "text": [
      "(3, 3, 3, 3, 3, 3)\n",
      "0.5064017280227003\n",
      "729\n"
     ]
    }
   ],
   "source": [
    "data = np.random.random((3, 3, 3, 3, 3, 3))\n",
    "print(data.shape)\n",
    "print(data.mean())\n",
    "print(data.size)"
   ]
  },
  {
   "cell_type": "code",
   "execution_count": 47,
   "metadata": {},
   "outputs": [
    {
     "name": "stdout",
     "output_type": "stream",
     "text": [
      "[0 1 2 3 4 5 6 7 8 9]\n"
     ]
    }
   ],
   "source": [
    "data = np.arange(0, 10, 0.5) # start_value, end_value, step_size\n",
    "print(data)"
   ]
  },
  {
   "cell_type": "code",
   "execution_count": 49,
   "metadata": {},
   "outputs": [
    {
     "name": "stdout",
     "output_type": "stream",
     "text": [
      "[-5.         -3.33333333 -1.66666667  0.          1.66666667  3.33333333\n",
      "  5.          6.66666667  8.33333333 10.        ]\n"
     ]
    }
   ],
   "source": [
    "data = np.linspace(-5, 10, 10) # start and end values are start and endpoints in the array, with exact equal steps between them\n",
    "print(data)"
   ]
  },
  {
   "cell_type": "markdown",
   "metadata": {},
   "source": [
    "# manipulating datapoint in an array using a mask"
   ]
  },
  {
   "cell_type": "code",
   "execution_count": 50,
   "metadata": {},
   "outputs": [
    {
     "name": "stdout",
     "output_type": "stream",
     "text": [
      "[[  1   2   3]\n",
      " [  4 100 100]\n",
      " [100 100 100]]\n"
     ]
    }
   ],
   "source": [
    "matrix = np.array(\n",
    "    [[1, 2, 3],\n",
    "     [4, 5, 6],\n",
    "     [7, 8, 9]]\n",
    ")\n",
    "\n",
    "mask = matrix >= 5\n",
    "\n",
    "matrix[mask] = 100\n",
    "print(matrix)"
   ]
  },
  {
   "cell_type": "code",
   "execution_count": 53,
   "metadata": {},
   "outputs": [
    {
     "name": "stdout",
     "output_type": "stream",
     "text": [
      "[1 2 3 4 5 6 7 8 9]\n",
      "9\n",
      "(9,)\n",
      "[[1 2 3]\n",
      " [4 5 6]\n",
      " [7 8 9]]\n",
      "(3, 3)\n"
     ]
    }
   ],
   "source": [
    "data = np.arange(1, 10, 1) # start_value, end_value, step_size\n",
    "print(data)\n",
    "print(data.size)\n",
    "print(data.shape)\n",
    "\n",
    "data_2 = data.reshape(3, 3)\n",
    "print(data_2)\n",
    "print(data_2.shape)\n"
   ]
  }
 ],
 "metadata": {
  "kernelspec": {
   "display_name": "IntlSys_python3",
   "language": "python",
   "name": "python3"
  },
  "language_info": {
   "codemirror_mode": {
    "name": "ipython",
    "version": 3
   },
   "file_extension": ".py",
   "mimetype": "text/x-python",
   "name": "python",
   "nbconvert_exporter": "python",
   "pygments_lexer": "ipython3",
   "version": "3.11.5"
  }
 },
 "nbformat": 4,
 "nbformat_minor": 2
}
